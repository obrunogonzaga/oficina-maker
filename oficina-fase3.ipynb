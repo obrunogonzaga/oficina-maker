{
 "cells": [
  {
   "cell_type": "markdown",
   "metadata": {},
   "source": [
    "# AV – TRABALHO: FASE 3 – Preparação e análise exploratória de dados"
   ]
  },
  {
   "cell_type": "markdown",
   "metadata": {},
   "source": [
    "**Alunos:**\n",
    "- Bruno Eduardo Procopiuk Walter\n",
    "- Bruno Gonzaga Santos"
   ]
  },
  {
   "cell_type": "markdown",
   "metadata": {},
   "source": [
    "**Tarefas:**\n",
    "1. Limpeza dos datasets de treino e teste\n",
    "2. Normalização dos datasets de treino e teste"
   ]
  },
  {
   "cell_type": "markdown",
   "metadata": {},
   "source": [
    "## Obtendo os dados"
   ]
  },
  {
   "cell_type": "code",
   "execution_count": 21,
   "metadata": {},
   "outputs": [],
   "source": [
    "# Realizando imports\n",
    "import pandas as pd\n",
    "from sklearn import preprocessing"
   ]
  },
  {
   "cell_type": "code",
   "execution_count": 2,
   "metadata": {},
   "outputs": [
    {
     "data": {
      "text/html": [
       "<div>\n",
       "<style scoped>\n",
       "    .dataframe tbody tr th:only-of-type {\n",
       "        vertical-align: middle;\n",
       "    }\n",
       "\n",
       "    .dataframe tbody tr th {\n",
       "        vertical-align: top;\n",
       "    }\n",
       "\n",
       "    .dataframe thead th {\n",
       "        text-align: right;\n",
       "    }\n",
       "</style>\n",
       "<table border=\"1\" class=\"dataframe\">\n",
       "  <thead>\n",
       "    <tr style=\"text-align: right;\">\n",
       "      <th></th>\n",
       "      <th>cpf_hash</th>\n",
       "      <th>estimativa_renda</th>\n",
       "      <th>anos_ultima_restituicao</th>\n",
       "      <th>anos_ultima_declaracao</th>\n",
       "      <th>segmentacao_financeira</th>\n",
       "      <th>safra</th>\n",
       "      <th>target</th>\n",
       "    </tr>\n",
       "  </thead>\n",
       "  <tbody>\n",
       "    <tr>\n",
       "      <th>0</th>\n",
       "      <td>217413</td>\n",
       "      <td>900</td>\n",
       "      <td>-9998</td>\n",
       "      <td>-9998</td>\n",
       "      <td>0</td>\n",
       "      <td>TESTE</td>\n",
       "      <td>0.0</td>\n",
       "    </tr>\n",
       "    <tr>\n",
       "      <th>1</th>\n",
       "      <td>659712</td>\n",
       "      <td>400</td>\n",
       "      <td>-9998</td>\n",
       "      <td>12</td>\n",
       "      <td>0</td>\n",
       "      <td>TESTE</td>\n",
       "      <td>0.0</td>\n",
       "    </tr>\n",
       "    <tr>\n",
       "      <th>2</th>\n",
       "      <td>558518</td>\n",
       "      <td>6000</td>\n",
       "      <td>-9998</td>\n",
       "      <td>-9998</td>\n",
       "      <td>1</td>\n",
       "      <td>TESTE</td>\n",
       "      <td>0.0</td>\n",
       "    </tr>\n",
       "    <tr>\n",
       "      <th>3</th>\n",
       "      <td>622015</td>\n",
       "      <td>1000</td>\n",
       "      <td>-9998</td>\n",
       "      <td>-9998</td>\n",
       "      <td>1</td>\n",
       "      <td>TESTE</td>\n",
       "      <td>0.0</td>\n",
       "    </tr>\n",
       "    <tr>\n",
       "      <th>4</th>\n",
       "      <td>595874</td>\n",
       "      <td>400</td>\n",
       "      <td>-9998</td>\n",
       "      <td>-9998</td>\n",
       "      <td>0</td>\n",
       "      <td>TESTE</td>\n",
       "      <td>0.0</td>\n",
       "    </tr>\n",
       "  </tbody>\n",
       "</table>\n",
       "</div>"
      ],
      "text/plain": [
       "   cpf_hash  estimativa_renda  anos_ultima_restituicao  \\\n",
       "0    217413               900                    -9998   \n",
       "1    659712               400                    -9998   \n",
       "2    558518              6000                    -9998   \n",
       "3    622015              1000                    -9998   \n",
       "4    595874               400                    -9998   \n",
       "\n",
       "   anos_ultima_declaracao  segmentacao_financeira  safra  target  \n",
       "0                   -9998                       0  TESTE     0.0  \n",
       "1                      12                       0  TESTE     0.0  \n",
       "2                   -9998                       1  TESTE     0.0  \n",
       "3                   -9998                       1  TESTE     0.0  \n",
       "4                   -9998                       0  TESTE     0.0  "
      ]
     },
     "execution_count": 2,
     "metadata": {},
     "output_type": "execute_result"
    }
   ],
   "source": [
    "# Lendo dataset de teste\n",
    "df_test = pd.read_csv('datasets/score-test.csv', sep=',')\n",
    "df_test.head()"
   ]
  },
  {
   "cell_type": "code",
   "execution_count": 3,
   "metadata": {},
   "outputs": [
    {
     "data": {
      "text/html": [
       "<div>\n",
       "<style scoped>\n",
       "    .dataframe tbody tr th:only-of-type {\n",
       "        vertical-align: middle;\n",
       "    }\n",
       "\n",
       "    .dataframe tbody tr th {\n",
       "        vertical-align: top;\n",
       "    }\n",
       "\n",
       "    .dataframe thead th {\n",
       "        text-align: right;\n",
       "    }\n",
       "</style>\n",
       "<table border=\"1\" class=\"dataframe\">\n",
       "  <thead>\n",
       "    <tr style=\"text-align: right;\">\n",
       "      <th></th>\n",
       "      <th>cpf_hash</th>\n",
       "      <th>estimativa_renda</th>\n",
       "      <th>anos_ultima_restituicao</th>\n",
       "      <th>anos_ultima_declaracao</th>\n",
       "      <th>segmentacao_financeira</th>\n",
       "      <th>safra</th>\n",
       "      <th>target</th>\n",
       "    </tr>\n",
       "  </thead>\n",
       "  <tbody>\n",
       "    <tr>\n",
       "      <th>0</th>\n",
       "      <td>241872</td>\n",
       "      <td>20000</td>\n",
       "      <td>8</td>\n",
       "      <td>4</td>\n",
       "      <td>0</td>\n",
       "      <td>TREINO</td>\n",
       "      <td>0.0</td>\n",
       "    </tr>\n",
       "    <tr>\n",
       "      <th>1</th>\n",
       "      <td>119525</td>\n",
       "      <td>1000</td>\n",
       "      <td>-9998</td>\n",
       "      <td>-9998</td>\n",
       "      <td>0</td>\n",
       "      <td>TREINO</td>\n",
       "      <td>0.0</td>\n",
       "    </tr>\n",
       "    <tr>\n",
       "      <th>2</th>\n",
       "      <td>325014</td>\n",
       "      <td>900</td>\n",
       "      <td>-9998</td>\n",
       "      <td>-9998</td>\n",
       "      <td>0</td>\n",
       "      <td>TREINO</td>\n",
       "      <td>1.0</td>\n",
       "    </tr>\n",
       "    <tr>\n",
       "      <th>3</th>\n",
       "      <td>219233</td>\n",
       "      <td>1000</td>\n",
       "      <td>-9998</td>\n",
       "      <td>-9998</td>\n",
       "      <td>0</td>\n",
       "      <td>TREINO</td>\n",
       "      <td>0.0</td>\n",
       "    </tr>\n",
       "    <tr>\n",
       "      <th>4</th>\n",
       "      <td>302740</td>\n",
       "      <td>900</td>\n",
       "      <td>-9998</td>\n",
       "      <td>-9998</td>\n",
       "      <td>0</td>\n",
       "      <td>TREINO</td>\n",
       "      <td>0.0</td>\n",
       "    </tr>\n",
       "  </tbody>\n",
       "</table>\n",
       "</div>"
      ],
      "text/plain": [
       "   cpf_hash  estimativa_renda  anos_ultima_restituicao  \\\n",
       "0    241872             20000                        8   \n",
       "1    119525              1000                    -9998   \n",
       "2    325014               900                    -9998   \n",
       "3    219233              1000                    -9998   \n",
       "4    302740               900                    -9998   \n",
       "\n",
       "   anos_ultima_declaracao  segmentacao_financeira   safra  target  \n",
       "0                       4                       0  TREINO     0.0  \n",
       "1                   -9998                       0  TREINO     0.0  \n",
       "2                   -9998                       0  TREINO     1.0  \n",
       "3                   -9998                       0  TREINO     0.0  \n",
       "4                   -9998                       0  TREINO     0.0  "
      ]
     },
     "execution_count": 3,
     "metadata": {},
     "output_type": "execute_result"
    }
   ],
   "source": [
    "# Lendo dataset de treino\n",
    "df_train = pd.read_csv('datasets/score-train.csv', sep=',')\n",
    "df_train.head()"
   ]
  },
  {
   "cell_type": "markdown",
   "metadata": {},
   "source": [
    "## Clean"
   ]
  },
  {
   "cell_type": "code",
   "execution_count": 4,
   "metadata": {},
   "outputs": [],
   "source": [
    "# Removendo colunas desnecessárias\n",
    "del df_train['anos_ultima_restituicao']\n",
    "del df_train['anos_ultima_declaracao']\n",
    "del df_test['anos_ultima_restituicao']\n",
    "del df_test['anos_ultima_declaracao']"
   ]
  },
  {
   "cell_type": "code",
   "execution_count": 5,
   "metadata": {},
   "outputs": [
    {
     "data": {
      "text/html": [
       "<div>\n",
       "<style scoped>\n",
       "    .dataframe tbody tr th:only-of-type {\n",
       "        vertical-align: middle;\n",
       "    }\n",
       "\n",
       "    .dataframe tbody tr th {\n",
       "        vertical-align: top;\n",
       "    }\n",
       "\n",
       "    .dataframe thead th {\n",
       "        text-align: right;\n",
       "    }\n",
       "</style>\n",
       "<table border=\"1\" class=\"dataframe\">\n",
       "  <thead>\n",
       "    <tr style=\"text-align: right;\">\n",
       "      <th></th>\n",
       "      <th>cpf_hash</th>\n",
       "      <th>estimativa_renda</th>\n",
       "      <th>segmentacao_financeira</th>\n",
       "      <th>safra</th>\n",
       "      <th>target</th>\n",
       "    </tr>\n",
       "  </thead>\n",
       "  <tbody>\n",
       "    <tr>\n",
       "      <th>0</th>\n",
       "      <td>241872</td>\n",
       "      <td>20000</td>\n",
       "      <td>0</td>\n",
       "      <td>TREINO</td>\n",
       "      <td>0.0</td>\n",
       "    </tr>\n",
       "    <tr>\n",
       "      <th>1</th>\n",
       "      <td>119525</td>\n",
       "      <td>1000</td>\n",
       "      <td>0</td>\n",
       "      <td>TREINO</td>\n",
       "      <td>0.0</td>\n",
       "    </tr>\n",
       "    <tr>\n",
       "      <th>2</th>\n",
       "      <td>325014</td>\n",
       "      <td>900</td>\n",
       "      <td>0</td>\n",
       "      <td>TREINO</td>\n",
       "      <td>1.0</td>\n",
       "    </tr>\n",
       "    <tr>\n",
       "      <th>3</th>\n",
       "      <td>219233</td>\n",
       "      <td>1000</td>\n",
       "      <td>0</td>\n",
       "      <td>TREINO</td>\n",
       "      <td>0.0</td>\n",
       "    </tr>\n",
       "    <tr>\n",
       "      <th>4</th>\n",
       "      <td>302740</td>\n",
       "      <td>900</td>\n",
       "      <td>0</td>\n",
       "      <td>TREINO</td>\n",
       "      <td>0.0</td>\n",
       "    </tr>\n",
       "  </tbody>\n",
       "</table>\n",
       "</div>"
      ],
      "text/plain": [
       "   cpf_hash  estimativa_renda  segmentacao_financeira   safra  target\n",
       "0    241872             20000                       0  TREINO     0.0\n",
       "1    119525              1000                       0  TREINO     0.0\n",
       "2    325014               900                       0  TREINO     1.0\n",
       "3    219233              1000                       0  TREINO     0.0\n",
       "4    302740               900                       0  TREINO     0.0"
      ]
     },
     "execution_count": 5,
     "metadata": {},
     "output_type": "execute_result"
    }
   ],
   "source": [
    "df_train.head()"
   ]
  },
  {
   "cell_type": "markdown",
   "metadata": {},
   "source": [
    "### Removendo valores inválidos da estimativa_renda"
   ]
  },
  {
   "cell_type": "code",
   "execution_count": 6,
   "metadata": {},
   "outputs": [
    {
     "data": {
      "text/html": [
       "<div>\n",
       "<style scoped>\n",
       "    .dataframe tbody tr th:only-of-type {\n",
       "        vertical-align: middle;\n",
       "    }\n",
       "\n",
       "    .dataframe tbody tr th {\n",
       "        vertical-align: top;\n",
       "    }\n",
       "\n",
       "    .dataframe thead th {\n",
       "        text-align: right;\n",
       "    }\n",
       "</style>\n",
       "<table border=\"1\" class=\"dataframe\">\n",
       "  <thead>\n",
       "    <tr style=\"text-align: right;\">\n",
       "      <th></th>\n",
       "      <th>cpf_hash</th>\n",
       "      <th>estimativa_renda</th>\n",
       "      <th>segmentacao_financeira</th>\n",
       "      <th>safra</th>\n",
       "      <th>target</th>\n",
       "    </tr>\n",
       "  </thead>\n",
       "  <tbody>\n",
       "    <tr>\n",
       "      <th>0</th>\n",
       "      <td>217413</td>\n",
       "      <td>900</td>\n",
       "      <td>0</td>\n",
       "      <td>TESTE</td>\n",
       "      <td>0.0</td>\n",
       "    </tr>\n",
       "    <tr>\n",
       "      <th>1</th>\n",
       "      <td>659712</td>\n",
       "      <td>400</td>\n",
       "      <td>0</td>\n",
       "      <td>TESTE</td>\n",
       "      <td>0.0</td>\n",
       "    </tr>\n",
       "    <tr>\n",
       "      <th>2</th>\n",
       "      <td>558518</td>\n",
       "      <td>6000</td>\n",
       "      <td>1</td>\n",
       "      <td>TESTE</td>\n",
       "      <td>0.0</td>\n",
       "    </tr>\n",
       "    <tr>\n",
       "      <th>3</th>\n",
       "      <td>622015</td>\n",
       "      <td>1000</td>\n",
       "      <td>1</td>\n",
       "      <td>TESTE</td>\n",
       "      <td>0.0</td>\n",
       "    </tr>\n",
       "    <tr>\n",
       "      <th>4</th>\n",
       "      <td>595874</td>\n",
       "      <td>400</td>\n",
       "      <td>0</td>\n",
       "      <td>TESTE</td>\n",
       "      <td>0.0</td>\n",
       "    </tr>\n",
       "  </tbody>\n",
       "</table>\n",
       "</div>"
      ],
      "text/plain": [
       "   cpf_hash  estimativa_renda  segmentacao_financeira  safra  target\n",
       "0    217413               900                       0  TESTE     0.0\n",
       "1    659712               400                       0  TESTE     0.0\n",
       "2    558518              6000                       1  TESTE     0.0\n",
       "3    622015              1000                       1  TESTE     0.0\n",
       "4    595874               400                       0  TESTE     0.0"
      ]
     },
     "execution_count": 6,
     "metadata": {},
     "output_type": "execute_result"
    }
   ],
   "source": [
    "df_test.head()"
   ]
  },
  {
   "cell_type": "code",
   "execution_count": 9,
   "metadata": {},
   "outputs": [
    {
     "data": {
      "text/plain": [
       "array([20000,  1000,   900,  8500, 25000, -9999,   400,  1200,  1900,\n",
       "        3500,   800,  7500,  2400,  2100,  4500,  5500,  1800,  1100,\n",
       "        1600,  1400,  2500,  4000,  2300,  3000,  2200, 30000,  1700,\n",
       "        6000,  6500,  8000,  7000, 12000,  1500,  2000,  9000, 10000,\n",
       "        2700,  8600,   500, 14000,  2800,  5000,  8200,  4200, 15000,\n",
       "       13000, 11000,  3100,  4600,  6600,  3200,  6400,  1300,  2600,\n",
       "       23000,  6200,  9700,  9300,  3900,  8900,  8700, 17000,  7300,\n",
       "        4700,   700,  2900,  5900,  7900, 19000,  9400,  5800,  3300,\n",
       "        7100,  9900,  5200,  3700,  7800,  4900,  4300, 22000,  6900,\n",
       "        5700, 27000,  6800,  9200,  6300,  8300, 18000,  9500,  5600,\n",
       "       16000,  3400, 28000,  4800,  3600,  5400,  7700,  6100,  9600,\n",
       "        6700,  5100,  7600,  8800, 26000,  4100,  9100,  3800,  7400,\n",
       "        5300,   600,  4400,  8400,  7200,  8100,  9800, 21000, 24000])"
      ]
     },
     "execution_count": 9,
     "metadata": {},
     "output_type": "execute_result"
    }
   ],
   "source": [
    "df_train.estimativa_renda.unique()"
   ]
  },
  {
   "cell_type": "code",
   "execution_count": 16,
   "metadata": {},
   "outputs": [],
   "source": [
    "df_train = df_train[df_train.estimativa_renda != -9999]\n",
    "df_test = df_test[df_test.estimativa_renda != -9999]"
   ]
  },
  {
   "cell_type": "code",
   "execution_count": 12,
   "metadata": {},
   "outputs": [
    {
     "data": {
      "text/plain": [
       "array([20000,  1000,   900,  8500, 25000,   400,  1200,  1900,  3500,\n",
       "         800,  7500,  2400,  2100,  4500,  5500,  1800,  1100,  1600,\n",
       "        1400,  2500,  4000,  2300,  3000,  2200, 30000,  1700,  6000,\n",
       "        6500,  8000,  7000, 12000,  1500,  2000,  9000, 10000,  2700,\n",
       "        8600,   500, 14000,  2800,  5000,  8200,  4200, 15000, 13000,\n",
       "       11000,  3100,  4600,  6600,  3200,  6400,  1300,  2600, 23000,\n",
       "        6200,  9700,  9300,  3900,  8900,  8700, 17000,  7300,  4700,\n",
       "         700,  2900,  5900,  7900, 19000,  9400,  5800,  3300,  7100,\n",
       "        9900,  5200,  3700,  7800,  4900,  4300, 22000,  6900,  5700,\n",
       "       27000,  6800,  9200,  6300,  8300, 18000,  9500,  5600, 16000,\n",
       "        3400, 28000,  4800,  3600,  5400,  7700,  6100,  9600,  6700,\n",
       "        5100,  7600,  8800, 26000,  4100,  9100,  3800,  7400,  5300,\n",
       "         600,  4400,  8400,  7200,  8100,  9800, 21000, 24000])"
      ]
     },
     "execution_count": 12,
     "metadata": {},
     "output_type": "execute_result"
    }
   ],
   "source": [
    "df_train.estimativa_renda.unique()"
   ]
  },
  {
   "cell_type": "markdown",
   "metadata": {},
   "source": [
    "### Removendo valores inválidos da segmetacao financeira"
   ]
  },
  {
   "cell_type": "code",
   "execution_count": 13,
   "metadata": {},
   "outputs": [
    {
     "data": {
      "text/html": [
       "<div>\n",
       "<style scoped>\n",
       "    .dataframe tbody tr th:only-of-type {\n",
       "        vertical-align: middle;\n",
       "    }\n",
       "\n",
       "    .dataframe tbody tr th {\n",
       "        vertical-align: top;\n",
       "    }\n",
       "\n",
       "    .dataframe thead th {\n",
       "        text-align: right;\n",
       "    }\n",
       "</style>\n",
       "<table border=\"1\" class=\"dataframe\">\n",
       "  <thead>\n",
       "    <tr style=\"text-align: right;\">\n",
       "      <th></th>\n",
       "      <th>cpf_hash</th>\n",
       "      <th>estimativa_renda</th>\n",
       "      <th>segmentacao_financeira</th>\n",
       "      <th>safra</th>\n",
       "      <th>target</th>\n",
       "    </tr>\n",
       "  </thead>\n",
       "  <tbody>\n",
       "    <tr>\n",
       "      <th>0</th>\n",
       "      <td>217413</td>\n",
       "      <td>900</td>\n",
       "      <td>0</td>\n",
       "      <td>TESTE</td>\n",
       "      <td>0.0</td>\n",
       "    </tr>\n",
       "    <tr>\n",
       "      <th>1</th>\n",
       "      <td>659712</td>\n",
       "      <td>400</td>\n",
       "      <td>0</td>\n",
       "      <td>TESTE</td>\n",
       "      <td>0.0</td>\n",
       "    </tr>\n",
       "    <tr>\n",
       "      <th>2</th>\n",
       "      <td>558518</td>\n",
       "      <td>6000</td>\n",
       "      <td>1</td>\n",
       "      <td>TESTE</td>\n",
       "      <td>0.0</td>\n",
       "    </tr>\n",
       "    <tr>\n",
       "      <th>3</th>\n",
       "      <td>622015</td>\n",
       "      <td>1000</td>\n",
       "      <td>1</td>\n",
       "      <td>TESTE</td>\n",
       "      <td>0.0</td>\n",
       "    </tr>\n",
       "    <tr>\n",
       "      <th>4</th>\n",
       "      <td>595874</td>\n",
       "      <td>400</td>\n",
       "      <td>0</td>\n",
       "      <td>TESTE</td>\n",
       "      <td>0.0</td>\n",
       "    </tr>\n",
       "  </tbody>\n",
       "</table>\n",
       "</div>"
      ],
      "text/plain": [
       "   cpf_hash  estimativa_renda  segmentacao_financeira  safra  target\n",
       "0    217413               900                       0  TESTE     0.0\n",
       "1    659712               400                       0  TESTE     0.0\n",
       "2    558518              6000                       1  TESTE     0.0\n",
       "3    622015              1000                       1  TESTE     0.0\n",
       "4    595874               400                       0  TESTE     0.0"
      ]
     },
     "execution_count": 13,
     "metadata": {},
     "output_type": "execute_result"
    }
   ],
   "source": [
    "df_test.head()"
   ]
  },
  {
   "cell_type": "code",
   "execution_count": 15,
   "metadata": {},
   "outputs": [
    {
     "data": {
      "text/plain": [
       "array([    0,     1,     2, -9999,     3,     4,     5])"
      ]
     },
     "execution_count": 15,
     "metadata": {},
     "output_type": "execute_result"
    }
   ],
   "source": [
    "df_test.segmentacao_financeira.unique()"
   ]
  },
  {
   "cell_type": "code",
   "execution_count": 17,
   "metadata": {},
   "outputs": [],
   "source": [
    "df_train = df_train[df_train.segmentacao_financeira != -9999]\n",
    "df_test = df_test[df_test.segmentacao_financeira != -9999]"
   ]
  },
  {
   "cell_type": "code",
   "execution_count": 18,
   "metadata": {},
   "outputs": [
    {
     "data": {
      "text/plain": [
       "array([0, 1, 2, 3, 4, 5])"
      ]
     },
     "execution_count": 18,
     "metadata": {},
     "output_type": "execute_result"
    }
   ],
   "source": [
    "df_test.segmentacao_financeira.unique()"
   ]
  },
  {
   "cell_type": "markdown",
   "metadata": {},
   "source": [
    "    ### Normalizar váriaveis teste"
   ]
  },
  {
   "cell_type": "code",
   "execution_count": 19,
   "metadata": {},
   "outputs": [
    {
     "data": {
      "text/html": [
       "<div>\n",
       "<style scoped>\n",
       "    .dataframe tbody tr th:only-of-type {\n",
       "        vertical-align: middle;\n",
       "    }\n",
       "\n",
       "    .dataframe tbody tr th {\n",
       "        vertical-align: top;\n",
       "    }\n",
       "\n",
       "    .dataframe thead th {\n",
       "        text-align: right;\n",
       "    }\n",
       "</style>\n",
       "<table border=\"1\" class=\"dataframe\">\n",
       "  <thead>\n",
       "    <tr style=\"text-align: right;\">\n",
       "      <th></th>\n",
       "      <th>cpf_hash</th>\n",
       "      <th>estimativa_renda</th>\n",
       "      <th>segmentacao_financeira</th>\n",
       "      <th>safra</th>\n",
       "      <th>target</th>\n",
       "    </tr>\n",
       "  </thead>\n",
       "  <tbody>\n",
       "    <tr>\n",
       "      <th>0</th>\n",
       "      <td>217413</td>\n",
       "      <td>900</td>\n",
       "      <td>0</td>\n",
       "      <td>TESTE</td>\n",
       "      <td>0.0</td>\n",
       "    </tr>\n",
       "    <tr>\n",
       "      <th>1</th>\n",
       "      <td>659712</td>\n",
       "      <td>400</td>\n",
       "      <td>0</td>\n",
       "      <td>TESTE</td>\n",
       "      <td>0.0</td>\n",
       "    </tr>\n",
       "    <tr>\n",
       "      <th>2</th>\n",
       "      <td>558518</td>\n",
       "      <td>6000</td>\n",
       "      <td>1</td>\n",
       "      <td>TESTE</td>\n",
       "      <td>0.0</td>\n",
       "    </tr>\n",
       "    <tr>\n",
       "      <th>3</th>\n",
       "      <td>622015</td>\n",
       "      <td>1000</td>\n",
       "      <td>1</td>\n",
       "      <td>TESTE</td>\n",
       "      <td>0.0</td>\n",
       "    </tr>\n",
       "    <tr>\n",
       "      <th>4</th>\n",
       "      <td>595874</td>\n",
       "      <td>400</td>\n",
       "      <td>0</td>\n",
       "      <td>TESTE</td>\n",
       "      <td>0.0</td>\n",
       "    </tr>\n",
       "  </tbody>\n",
       "</table>\n",
       "</div>"
      ],
      "text/plain": [
       "   cpf_hash  estimativa_renda  segmentacao_financeira  safra  target\n",
       "0    217413               900                       0  TESTE     0.0\n",
       "1    659712               400                       0  TESTE     0.0\n",
       "2    558518              6000                       1  TESTE     0.0\n",
       "3    622015              1000                       1  TESTE     0.0\n",
       "4    595874               400                       0  TESTE     0.0"
      ]
     },
     "execution_count": 19,
     "metadata": {},
     "output_type": "execute_result"
    }
   ],
   "source": [
    "df_test.head()"
   ]
  },
  {
   "cell_type": "code",
   "execution_count": 28,
   "metadata": {},
   "outputs": [
    {
     "data": {
      "text/html": [
       "<div>\n",
       "<style scoped>\n",
       "    .dataframe tbody tr th:only-of-type {\n",
       "        vertical-align: middle;\n",
       "    }\n",
       "\n",
       "    .dataframe tbody tr th {\n",
       "        vertical-align: top;\n",
       "    }\n",
       "\n",
       "    .dataframe thead th {\n",
       "        text-align: right;\n",
       "    }\n",
       "</style>\n",
       "<table border=\"1\" class=\"dataframe\">\n",
       "  <thead>\n",
       "    <tr style=\"text-align: right;\">\n",
       "      <th></th>\n",
       "      <th>estimativa_renda</th>\n",
       "      <th>segmentacao_financeira</th>\n",
       "    </tr>\n",
       "  </thead>\n",
       "  <tbody>\n",
       "    <tr>\n",
       "      <th>0</th>\n",
       "      <td>900</td>\n",
       "      <td>0</td>\n",
       "    </tr>\n",
       "    <tr>\n",
       "      <th>1</th>\n",
       "      <td>400</td>\n",
       "      <td>0</td>\n",
       "    </tr>\n",
       "    <tr>\n",
       "      <th>2</th>\n",
       "      <td>6000</td>\n",
       "      <td>1</td>\n",
       "    </tr>\n",
       "    <tr>\n",
       "      <th>3</th>\n",
       "      <td>1000</td>\n",
       "      <td>1</td>\n",
       "    </tr>\n",
       "    <tr>\n",
       "      <th>4</th>\n",
       "      <td>400</td>\n",
       "      <td>0</td>\n",
       "    </tr>\n",
       "  </tbody>\n",
       "</table>\n",
       "</div>"
      ],
      "text/plain": [
       "   estimativa_renda  segmentacao_financeira\n",
       "0               900                       0\n",
       "1               400                       0\n",
       "2              6000                       1\n",
       "3              1000                       1\n",
       "4               400                       0"
      ]
     },
     "execution_count": 28,
     "metadata": {},
     "output_type": "execute_result"
    }
   ],
   "source": [
    "df_final_test = df_test[['estimativa_renda', 'segmentacao_financeira']]\n",
    "df_final_test.head()"
   ]
  },
  {
   "cell_type": "code",
   "execution_count": 29,
   "metadata": {},
   "outputs": [
    {
     "name": "stderr",
     "output_type": "stream",
     "text": [
      "/Users/brunogsantos/anaconda3/lib/python3.7/site-packages/sklearn/preprocessing/data.py:334: DataConversionWarning: Data with input dtype int64 were all converted to float64 by MinMaxScaler.\n",
      "  return self.partial_fit(X, y)\n"
     ]
    }
   ],
   "source": [
    "min_max_scaler = preprocessing.MinMaxScaler()\n",
    "np_scaled = min_max_scaler.fit_transform(df_final_test)\n",
    "df_final_test = pd.DataFrame(np_scaled, columns=df_final_test.columns)"
   ]
  },
  {
   "cell_type": "code",
   "execution_count": 32,
   "metadata": {},
   "outputs": [
    {
     "data": {
      "text/html": [
       "<div>\n",
       "<style scoped>\n",
       "    .dataframe tbody tr th:only-of-type {\n",
       "        vertical-align: middle;\n",
       "    }\n",
       "\n",
       "    .dataframe tbody tr th {\n",
       "        vertical-align: top;\n",
       "    }\n",
       "\n",
       "    .dataframe thead th {\n",
       "        text-align: right;\n",
       "    }\n",
       "</style>\n",
       "<table border=\"1\" class=\"dataframe\">\n",
       "  <thead>\n",
       "    <tr style=\"text-align: right;\">\n",
       "      <th></th>\n",
       "      <th>estimativa_renda</th>\n",
       "      <th>segmentacao_financeira</th>\n",
       "    </tr>\n",
       "  </thead>\n",
       "  <tbody>\n",
       "    <tr>\n",
       "      <th>0</th>\n",
       "      <td>0.016892</td>\n",
       "      <td>0.0</td>\n",
       "    </tr>\n",
       "    <tr>\n",
       "      <th>1</th>\n",
       "      <td>0.000000</td>\n",
       "      <td>0.0</td>\n",
       "    </tr>\n",
       "    <tr>\n",
       "      <th>2</th>\n",
       "      <td>0.189189</td>\n",
       "      <td>0.2</td>\n",
       "    </tr>\n",
       "    <tr>\n",
       "      <th>3</th>\n",
       "      <td>0.020270</td>\n",
       "      <td>0.2</td>\n",
       "    </tr>\n",
       "    <tr>\n",
       "      <th>4</th>\n",
       "      <td>0.000000</td>\n",
       "      <td>0.0</td>\n",
       "    </tr>\n",
       "  </tbody>\n",
       "</table>\n",
       "</div>"
      ],
      "text/plain": [
       "   estimativa_renda  segmentacao_financeira\n",
       "0          0.016892                     0.0\n",
       "1          0.000000                     0.0\n",
       "2          0.189189                     0.2\n",
       "3          0.020270                     0.2\n",
       "4          0.000000                     0.0"
      ]
     },
     "execution_count": 32,
     "metadata": {},
     "output_type": "execute_result"
    }
   ],
   "source": [
    "df_final_test.head()"
   ]
  },
  {
   "cell_type": "code",
   "execution_count": 35,
   "metadata": {},
   "outputs": [],
   "source": [
    "df_final_test.to_csv('datasets/normalize_test.csv', index = False)"
   ]
  },
  {
   "cell_type": "code",
   "execution_count": null,
   "metadata": {},
   "outputs": [],
   "source": []
  }
 ],
 "metadata": {
  "kernelspec": {
   "display_name": "Python 3",
   "language": "python",
   "name": "python3"
  },
  "language_info": {
   "codemirror_mode": {
    "name": "ipython",
    "version": 3
   },
   "file_extension": ".py",
   "mimetype": "text/x-python",
   "name": "python",
   "nbconvert_exporter": "python",
   "pygments_lexer": "ipython3",
   "version": "3.7.3"
  }
 },
 "nbformat": 4,
 "nbformat_minor": 2
}
